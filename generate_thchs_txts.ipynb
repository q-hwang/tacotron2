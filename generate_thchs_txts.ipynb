{
 "cells": [
  {
   "cell_type": "code",
   "execution_count": 70,
   "metadata": {},
   "outputs": [],
   "source": [
    "import numpy as np\n",
    "import pandas as pd\n",
    "import re,os\n",
    "import pinyin"
   ]
  },
  {
   "cell_type": "code",
   "execution_count": 71,
   "metadata": {},
   "outputs": [],
   "source": [
    "def generate_txts(file_name, data):\n",
    "    data.to_csv(file_name + \"_characters.txt\", sep='|',index=False,header=None, columns = [0,1])\n",
    "    data.to_csv(file_name + \"_pinyin.txt\", sep='|',index=False, header=None, columns = [0,2])\n"
   ]
  },
  {
   "cell_type": "code",
   "execution_count": 72,
   "metadata": {},
   "outputs": [],
   "source": [
    "def strip_digit(num_str):\n",
    "    return (str)((int)(num_str.group()))"
   ]
  },
  {
   "cell_type": "code",
   "execution_count": 73,
   "metadata": {},
   "outputs": [],
   "source": [
    "\n",
    "lst = []\n",
    "with open('/datasets/THCHS30/A2/text', encoding='utf-8') as f:    \n",
    "    for line in f:\n",
    "        line = line.strip()\n",
    "        sep = line.find(' ')\n",
    "        name = re.sub(\"[0-9]+\", strip_digit, line[:sep])\n",
    "        if (not re.match('A2_',name)):\n",
    "            continue\n",
    "        text = line[sep+1:]\n",
    "        text_num = pinyin.get(line[sep+1:], format=\"numerical\", delimiter=\" \")\n",
    "        wav_path = os.path.join('/datasets/THCHS30/A2/wavs', '%s.wav' % name)\n",
    "        lst.append([wav_path,text,text_num])  "
   ]
  },
  {
   "cell_type": "code",
   "execution_count": 74,
   "metadata": {},
   "outputs": [
    {
     "data": {
      "text/html": [
       "<div>\n",
       "<style scoped>\n",
       "    .dataframe tbody tr th:only-of-type {\n",
       "        vertical-align: middle;\n",
       "    }\n",
       "\n",
       "    .dataframe tbody tr th {\n",
       "        vertical-align: top;\n",
       "    }\n",
       "\n",
       "    .dataframe thead th {\n",
       "        text-align: right;\n",
       "    }\n",
       "</style>\n",
       "<table border=\"1\" class=\"dataframe\">\n",
       "  <thead>\n",
       "    <tr style=\"text-align: right;\">\n",
       "      <th></th>\n",
       "      <th>0</th>\n",
       "      <th>1</th>\n",
       "      <th>2</th>\n",
       "    </tr>\n",
       "  </thead>\n",
       "  <tbody>\n",
       "    <tr>\n",
       "      <th>0</th>\n",
       "      <td>/datasets/THCHS30/A2/wavs/A2_0.wav</td>\n",
       "      <td>绿 是 阳春 烟 景 大块 文章 的 底色 四月 的 林 峦 更是 绿 得 鲜活 秀媚 诗意 盎然</td>\n",
       "      <td>lv4   shi4   yang2 chun1   yan1   jing3   da4 ...</td>\n",
       "    </tr>\n",
       "    <tr>\n",
       "      <th>1</th>\n",
       "      <td>/datasets/THCHS30/A2/wavs/A2_1.wav</td>\n",
       "      <td>他 仅 凭 腰部 的 力量 在 泳道 上下 翻腾 蛹 动 蛇行 状 如 海豚 一直 以 一头...</td>\n",
       "      <td>ta1   jin3   ping2   yao1 bu4   de5   li4 lian...</td>\n",
       "    </tr>\n",
       "    <tr>\n",
       "      <th>2</th>\n",
       "      <td>/datasets/THCHS30/A2/wavs/A2_2.wav</td>\n",
       "      <td>企业 依靠 技术 挖潜 增效 他 负责 全厂 产品质量 与 技术培训 成了 厂里 的 大忙人</td>\n",
       "      <td>qi3 ye4   yi1 kao4   ji4 zhu2   wa1 qian2   ze...</td>\n",
       "    </tr>\n",
       "    <tr>\n",
       "      <th>3</th>\n",
       "      <td>/datasets/THCHS30/A2/wavs/A2_3.wav</td>\n",
       "      <td>菜 做好 了 一碗 清蒸 武昌鱼 一碗 蕃茄 炒鸡蛋 一碗 榨菜 干 子 炒肉丝</td>\n",
       "      <td>cai4   zuo4 hao3   le5   yi1 wan3   qing1 zhen...</td>\n",
       "    </tr>\n",
       "    <tr>\n",
       "      <th>4</th>\n",
       "      <td>/datasets/THCHS30/A2/wavs/A2_4.wav</td>\n",
       "      <td>她 看看 夜 己 很 深 白天 的 炎热 已 给 夜 凉 吹散 吩咐 大家 各自 安息 明天...</td>\n",
       "      <td>ta1   kan4 kan4   ye4   ji3   hen3   shen1   b...</td>\n",
       "    </tr>\n",
       "  </tbody>\n",
       "</table>\n",
       "</div>"
      ],
      "text/plain": [
       "                                    0  \\\n",
       "0  /datasets/THCHS30/A2/wavs/A2_0.wav   \n",
       "1  /datasets/THCHS30/A2/wavs/A2_1.wav   \n",
       "2  /datasets/THCHS30/A2/wavs/A2_2.wav   \n",
       "3  /datasets/THCHS30/A2/wavs/A2_3.wav   \n",
       "4  /datasets/THCHS30/A2/wavs/A2_4.wav   \n",
       "\n",
       "                                                   1  \\\n",
       "0  绿 是 阳春 烟 景 大块 文章 的 底色 四月 的 林 峦 更是 绿 得 鲜活 秀媚 诗意 盎然   \n",
       "1  他 仅 凭 腰部 的 力量 在 泳道 上下 翻腾 蛹 动 蛇行 状 如 海豚 一直 以 一头...   \n",
       "2     企业 依靠 技术 挖潜 增效 他 负责 全厂 产品质量 与 技术培训 成了 厂里 的 大忙人   \n",
       "3           菜 做好 了 一碗 清蒸 武昌鱼 一碗 蕃茄 炒鸡蛋 一碗 榨菜 干 子 炒肉丝   \n",
       "4  她 看看 夜 己 很 深 白天 的 炎热 已 给 夜 凉 吹散 吩咐 大家 各自 安息 明天...   \n",
       "\n",
       "                                                   2  \n",
       "0  lv4   shi4   yang2 chun1   yan1   jing3   da4 ...  \n",
       "1  ta1   jin3   ping2   yao1 bu4   de5   li4 lian...  \n",
       "2  qi3 ye4   yi1 kao4   ji4 zhu2   wa1 qian2   ze...  \n",
       "3  cai4   zuo4 hao3   le5   yi1 wan3   qing1 zhen...  \n",
       "4  ta1   kan4 kan4   ye4   ji3   hen3   shen1   b...  "
      ]
     },
     "execution_count": 74,
     "metadata": {},
     "output_type": "execute_result"
    }
   ],
   "source": [
    "df = pd.DataFrame(lst)\n",
    "df.head()"
   ]
  },
  {
   "cell_type": "code",
   "execution_count": 75,
   "metadata": {},
   "outputs": [],
   "source": [
    "r = np.random.rand(df.shape[0])\n",
    "train = df[r < 0.6]\n",
    "evalu = df[(0.6 <= r) & (r <= 0.8)]\n",
    "test = df[r > 0.8]"
   ]
  },
  {
   "cell_type": "code",
   "execution_count": null,
   "metadata": {},
   "outputs": [],
   "source": []
  },
  {
   "cell_type": "code",
   "execution_count": 76,
   "metadata": {},
   "outputs": [],
   "source": [
    "generate_txts(\"/datasets/THCHS30/A2/train_files\",train)\n",
    "        "
   ]
  },
  {
   "cell_type": "code",
   "execution_count": 77,
   "metadata": {},
   "outputs": [],
   "source": [
    "generate_txts(\"/datasets/THCHS30/A2/eval_files\",evalu)\n",
    "       "
   ]
  },
  {
   "cell_type": "code",
   "execution_count": 78,
   "metadata": {},
   "outputs": [],
   "source": [
    "generate_txts(\"/datasets/THCHS30/A2/test_files\",test)"
   ]
  },
  {
   "cell_type": "code",
   "execution_count": null,
   "metadata": {},
   "outputs": [],
   "source": []
  },
  {
   "cell_type": "code",
   "execution_count": null,
   "metadata": {},
   "outputs": [],
   "source": []
  },
  {
   "cell_type": "code",
   "execution_count": null,
   "metadata": {},
   "outputs": [],
   "source": []
  }
 ],
 "metadata": {
  "kernelspec": {
   "display_name": "Python 3",
   "language": "python",
   "name": "python3"
  },
  "language_info": {
   "codemirror_mode": {
    "name": "ipython",
    "version": 3
   },
   "file_extension": ".py",
   "mimetype": "text/x-python",
   "name": "python",
   "nbconvert_exporter": "python",
   "pygments_lexer": "ipython3",
   "version": "3.6.5"
  }
 },
 "nbformat": 4,
 "nbformat_minor": 2
}
