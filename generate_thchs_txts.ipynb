{
 "cells": [
  {
   "cell_type": "code",
   "execution_count": 23,
   "metadata": {},
   "outputs": [],
   "source": [
    "import numpy as np\n",
    "import pandas as pd\n",
    "import re,os\n",
    "import pinyin"
   ]
  },
  {
   "cell_type": "code",
   "execution_count": 24,
   "metadata": {},
   "outputs": [],
   "source": [
    "def generate_txts(path, prefix, data):\n",
    "    data.to_csv(os.path.join(base_path, prefix + \"_pinyin.txt\"), sep='|',index=False, header=None, columns = [0,2])\n"
   ]
  },
  {
   "cell_type": "code",
   "execution_count": 25,
   "metadata": {},
   "outputs": [],
   "source": [
    "def strip_digit(num_str):\n",
    "    return (str)((int)(num_str.group()))"
   ]
  },
  {
   "cell_type": "code",
   "execution_count": 26,
   "metadata": {},
   "outputs": [],
   "source": [
    "speaker = \"D8\"\n",
    "base_path = '/datasets/THCHS30/' + speaker\n",
    "lst = []\n",
    "with open(base_path + '/text', encoding='utf-8') as f:    \n",
    "    for line in f:\n",
    "        line = line.strip()\n",
    "        sep = line.find(' ')\n",
    "        name = re.sub(\"[0-9]+\", strip_digit, line[:sep])\n",
    "        if (not re.match(speaker + '_',name)):\n",
    "            continue\n",
    "        text = line[sep+1:]\n",
    "        text_num = pinyin.get(line[sep+1:], format=\"numerical\", delimiter=\" \")\n",
    "        wav_path = os.path.join(base_path +'/wavs', '%s.wav' % name)\n",
    "        lst.append([wav_path,text,text_num])  "
   ]
  },
  {
   "cell_type": "code",
   "execution_count": 27,
   "metadata": {},
   "outputs": [
    {
     "data": {
      "text/html": [
       "<div>\n",
       "<style scoped>\n",
       "    .dataframe tbody tr th:only-of-type {\n",
       "        vertical-align: middle;\n",
       "    }\n",
       "\n",
       "    .dataframe tbody tr th {\n",
       "        vertical-align: top;\n",
       "    }\n",
       "\n",
       "    .dataframe thead th {\n",
       "        text-align: right;\n",
       "    }\n",
       "</style>\n",
       "<table border=\"1\" class=\"dataframe\">\n",
       "  <thead>\n",
       "    <tr style=\"text-align: right;\">\n",
       "      <th></th>\n",
       "      <th>0</th>\n",
       "      <th>1</th>\n",
       "      <th>2</th>\n",
       "    </tr>\n",
       "  </thead>\n",
       "  <tbody>\n",
       "    <tr>\n",
       "      <th>0</th>\n",
       "      <td>/datasets/THCHS30/D8/wavs/D8_750.wav</td>\n",
       "      <td>东北军 的 一些 爱国 将士 马 占 山 李杜 唐 聚 伍 苏 炳 艾 邓 铁梅 等 也 奋...</td>\n",
       "      <td>dong1 bei3 jun1   de5   yi1 xie1   ai4 guo2   ...</td>\n",
       "    </tr>\n",
       "    <tr>\n",
       "      <th>1</th>\n",
       "      <td>/datasets/THCHS30/D8/wavs/D8_751.wav</td>\n",
       "      <td>王 英汉 被 枪毙 后 部分 余孽 深 藏起来 几次 围捕 均 未 抓获</td>\n",
       "      <td>wang2   ying1 han4   bei4   qiang1 bi4   hou4 ...</td>\n",
       "    </tr>\n",
       "    <tr>\n",
       "      <th>2</th>\n",
       "      <td>/datasets/THCHS30/D8/wavs/D8_752.wav</td>\n",
       "      <td>他们 走到 四 马路 一家 茶食 铺里 阿九 说 要 熏鱼 他 给 买 了 又 给 转 儿 ...</td>\n",
       "      <td>ta1 men5   zou3 dao4   si4   ma3 lu4   yi1 jia...</td>\n",
       "    </tr>\n",
       "    <tr>\n",
       "      <th>3</th>\n",
       "      <td>/datasets/THCHS30/D8/wavs/D8_753.wav</td>\n",
       "      <td>几天来 人们 说 军嫂 赞 军嫂 学 军嫂 也 赞誉 千千万万 为 军嫂 作出 奉献 的 人们</td>\n",
       "      <td>ji1 tian1 lai2   ren2 men5   shuo1   jun1 sao3...</td>\n",
       "    </tr>\n",
       "    <tr>\n",
       "      <th>4</th>\n",
       "      <td>/datasets/THCHS30/D8/wavs/D8_754.wav</td>\n",
       "      <td>由 太原市 南 郊区 寇 庄 村农民 投资 数百 万元 建设 的 平阳 集贸市场 因 管理 ...</td>\n",
       "      <td>you2   tai4 yuan2 shi4   nan2   jiao1 qu1   ko...</td>\n",
       "    </tr>\n",
       "  </tbody>\n",
       "</table>\n",
       "</div>"
      ],
      "text/plain": [
       "                                      0  \\\n",
       "0  /datasets/THCHS30/D8/wavs/D8_750.wav   \n",
       "1  /datasets/THCHS30/D8/wavs/D8_751.wav   \n",
       "2  /datasets/THCHS30/D8/wavs/D8_752.wav   \n",
       "3  /datasets/THCHS30/D8/wavs/D8_753.wav   \n",
       "4  /datasets/THCHS30/D8/wavs/D8_754.wav   \n",
       "\n",
       "                                                   1  \\\n",
       "0  东北军 的 一些 爱国 将士 马 占 山 李杜 唐 聚 伍 苏 炳 艾 邓 铁梅 等 也 奋...   \n",
       "1               王 英汉 被 枪毙 后 部分 余孽 深 藏起来 几次 围捕 均 未 抓获   \n",
       "2  他们 走到 四 马路 一家 茶食 铺里 阿九 说 要 熏鱼 他 给 买 了 又 给 转 儿 ...   \n",
       "3    几天来 人们 说 军嫂 赞 军嫂 学 军嫂 也 赞誉 千千万万 为 军嫂 作出 奉献 的 人们   \n",
       "4  由 太原市 南 郊区 寇 庄 村农民 投资 数百 万元 建设 的 平阳 集贸市场 因 管理 ...   \n",
       "\n",
       "                                                   2  \n",
       "0  dong1 bei3 jun1   de5   yi1 xie1   ai4 guo2   ...  \n",
       "1  wang2   ying1 han4   bei4   qiang1 bi4   hou4 ...  \n",
       "2  ta1 men5   zou3 dao4   si4   ma3 lu4   yi1 jia...  \n",
       "3  ji1 tian1 lai2   ren2 men5   shuo1   jun1 sao3...  \n",
       "4  you2   tai4 yuan2 shi4   nan2   jiao1 qu1   ko...  "
      ]
     },
     "execution_count": 27,
     "metadata": {},
     "output_type": "execute_result"
    }
   ],
   "source": [
    "df = pd.DataFrame(lst)\n",
    "df.head()"
   ]
  },
  {
   "cell_type": "code",
   "execution_count": 28,
   "metadata": {},
   "outputs": [],
   "source": [
    "r = np.random.rand(df.shape[0])\n",
    "train = df[r < 0.6]\n",
    "evalu = df[(0.6 <= r) & (r <= 0.8)]\n",
    "test = df[r > 0.8]"
   ]
  },
  {
   "cell_type": "code",
   "execution_count": null,
   "metadata": {},
   "outputs": [],
   "source": []
  },
  {
   "cell_type": "code",
   "execution_count": 30,
   "metadata": {},
   "outputs": [],
   "source": [
    "generate_txts(base_path, \"train_files\",train)\n",
    "        "
   ]
  },
  {
   "cell_type": "code",
   "execution_count": 31,
   "metadata": {},
   "outputs": [],
   "source": [
    "generate_txts(base_path, \"eval_files\",evalu)\n",
    "       "
   ]
  },
  {
   "cell_type": "code",
   "execution_count": 32,
   "metadata": {},
   "outputs": [],
   "source": [
    "generate_txts(base_path, \"test_files\",test)"
   ]
  },
  {
   "cell_type": "code",
   "execution_count": null,
   "metadata": {},
   "outputs": [],
   "source": []
  },
  {
   "cell_type": "code",
   "execution_count": null,
   "metadata": {},
   "outputs": [],
   "source": []
  },
  {
   "cell_type": "code",
   "execution_count": null,
   "metadata": {},
   "outputs": [],
   "source": []
  }
 ],
 "metadata": {
  "kernelspec": {
   "display_name": "Python 3",
   "language": "python",
   "name": "python3"
  },
  "language_info": {
   "codemirror_mode": {
    "name": "ipython",
    "version": 3
   },
   "file_extension": ".py",
   "mimetype": "text/x-python",
   "name": "python",
   "nbconvert_exporter": "python",
   "pygments_lexer": "ipython3",
   "version": "3.6.5"
  }
 },
 "nbformat": 4,
 "nbformat_minor": 2
}
