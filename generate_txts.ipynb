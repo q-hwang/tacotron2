{
 "cells": [
  {
   "cell_type": "code",
   "execution_count": 1,
   "metadata": {},
   "outputs": [],
   "source": [
    "import numpy as np\n",
    "import pandas as pd"
   ]
  },
  {
   "cell_type": "code",
   "execution_count": 2,
   "metadata": {},
   "outputs": [],
   "source": [
    "def write_to_file(file_name, data):\n",
    "    f = open(file_name,\"w+\")\n",
    "    for index, row in data.iterrows():\n",
    "        if (row[1] != None and row[3] != None):        \n",
    "            line = '/datasets/ljspeech/processed_wavenet/'+row[1] + \"|\" + row[3]\n",
    "            f.write(line + \"\\n\")\n",
    "    f.close"
   ]
  },
  {
   "cell_type": "code",
   "execution_count": 3,
   "metadata": {},
   "outputs": [],
   "source": [
    "with open('/datasets/ljspeech/processed_wavenet/train.txt', encoding='utf-8') as f:\n",
    "        filepaths_and_text = [line.strip().split(\"|\") for line in f]\n",
    "        df = pd.DataFrame(filepaths_and_text)"
   ]
  },
  {
   "cell_type": "code",
   "execution_count": 4,
   "metadata": {},
   "outputs": [],
   "source": [
    "        r = np.random.rand(df.shape[0])\n",
    "        train = df[r < 0.6]\n",
    "        evalu = df[(0.6 <= r) & (r <= 0.8)]\n",
    "        test = df[r > 0.8]"
   ]
  },
  {
   "cell_type": "code",
   "execution_count": 5,
   "metadata": {},
   "outputs": [
    {
     "data": {
      "text/plain": [
       "0                             ljspeech-audio-06683.npy\n",
       "1                               ljspeech-mel-06683.npy\n",
       "2                                               176128\n",
       "3    I hope that thereby the difficult process of c...\n",
       "Name: 6683, dtype: object"
      ]
     },
     "execution_count": 5,
     "metadata": {},
     "output_type": "execute_result"
    }
   ],
   "source": [
    "        train.iloc[4086]"
   ]
  },
  {
   "cell_type": "code",
   "execution_count": 6,
   "metadata": {},
   "outputs": [],
   "source": [
    "        write_to_file(\"/datasets/ljspeech/processed_wavenet/train_files.txt\",train)\n",
    "        "
   ]
  },
  {
   "cell_type": "code",
   "execution_count": 7,
   "metadata": {},
   "outputs": [],
   "source": [
    "        write_to_file(\"/datasets/ljspeech/processed_wavenet/eval_files.txt\",evalu)\n",
    "       "
   ]
  },
  {
   "cell_type": "code",
   "execution_count": 8,
   "metadata": {},
   "outputs": [],
   "source": [
    "        write_to_file(\"/datasets/ljspeech/processed_wavenet/test_files.txt\",test)"
   ]
  },
  {
   "cell_type": "code",
   "execution_count": null,
   "metadata": {},
   "outputs": [],
   "source": []
  },
  {
   "cell_type": "code",
   "execution_count": null,
   "metadata": {},
   "outputs": [],
   "source": []
  }
 ],
 "metadata": {
  "kernelspec": {
   "display_name": "Python 3",
   "language": "python",
   "name": "python3"
  },
  "language_info": {
   "codemirror_mode": {
    "name": "ipython",
    "version": 3
   },
   "file_extension": ".py",
   "mimetype": "text/x-python",
   "name": "python",
   "nbconvert_exporter": "python",
   "pygments_lexer": "ipython3",
   "version": "3.6.5"
  }
 },
 "nbformat": 4,
 "nbformat_minor": 2
}
